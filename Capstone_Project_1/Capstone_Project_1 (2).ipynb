{
 "cells": [
  {
   "cell_type": "code",
   "execution_count": 3,
   "id": "ebbefea0-41ea-4359-85c8-1e137db0759a",
   "metadata": {},
   "outputs": [],
   "source": [
    "# Block 0: imports and configuration\n",
    "# Set file path, target name, random seed and artifact settings here.\n",
    "import os\n",
    "import json\n",
    "import math\n",
    "import time\n",
    "from typing import List, Optional\n",
    "\n",
    "import numpy as np\n",
    "import pandas as pd\n",
    "import matplotlib.pyplot as plt\n",
    "import joblib\n",
    "\n",
    "from sklearn.base import BaseEstimator, TransformerMixin\n",
    "from sklearn.model_selection import train_test_split, GridSearchCV, RepeatedKFold\n",
    "from sklearn.compose import ColumnTransformer\n",
    "from sklearn.preprocessing import OneHotEncoder, PolynomialFeatures, RobustScaler, PowerTransformer\n",
    "from sklearn.pipeline import Pipeline\n",
    "from sklearn.impute import SimpleImputer\n",
    "from sklearn.linear_model import Ridge\n",
    "from sklearn.metrics import mean_squared_error, mean_absolute_error, r2_score, precision_score, recall_score, f1_score, accuracy_score\n",
    "from sklearn.compose import TransformedTargetRegressor\n",
    "\n",
    "# Edit these values as needed for your environment\n",
    "CSV_PATH = r\"C:\\Users\\jarvi\\.vscode\\Python\\TNSIF_AIML_DBIT\\manufacturing_dataset_1000_samples.csv\"\n",
    "TARGET = \"Parts_Per_Hour\"\n",
    "TEST_SIZE = 0.2\n",
    "RANDOM_STATE = 42\n",
    "SAVE_ARTIFACTS = True\n",
    "ARTIFACTS_DIR = \"artifacts\"\n",
    "\n",
    "# Underperformance thresholds (percentiles of training target)\n",
    "UNDERPERF_PCT_BASELINE = 25.0\n",
    "UNDERPERF_PCT_TUNED = 30.0\n"
   ]
  },
  {
   "cell_type": "code",
   "execution_count": null,
   "id": "8a3deaa5-988a-4fb1-9af7-c576e66af9ff",
   "metadata": {},
   "outputs": [],
   "source": [
    "# Block 1: helper functions and QuantileClipper transformer\n",
    "# These helpers compute metrics and extract feature names after preprocessing.\n",
    "def regression_report(y_true, y_pred):\n",
    "    mse = mean_squared_error(y_true, y_pred)\n",
    "    mape = np.mean(np.abs((y_true - y_pred) / np.clip(np.abs(y_true), 1e-8, None))) * 100\n",
    "    return {\n",
    "        \"RMSE\": float(np.sqrt(mse)),\n",
    "        \"MSE\": float(mse),\n",
    "        \"MAE\": float(mean_absolute_error(y_true, y_pred)),\n",
    "        \"R2\": float(r2_score(y_true, y_pred)),\n",
    "        \"MAPE\": float(mape)\n",
    "    }\n",
    "\n",
    "def class_report(y_true_cls, y_pred_cls):\n",
    "    return {\n",
    "        \"precision\": float(precision_score(y_true_cls, y_pred_cls, zero_division=0)),\n",
    "        \"recall\": float(recall_score(y_true_cls, y_pred_cls, zero_division=0)),\n",
    "        \"f1\": float(f1_score(y_true_cls, y_pred_cls, zero_division=0)),\n",
    "        \"accuracy\": float(accuracy_score(y_true_cls, y_pred_cls))\n",
    "    }\n",
    "\n",
    "def get_feature_names(pre: ColumnTransformer) -> List[str]:\n",
    "    num_name_list = []\n",
    "    cat_name_list = []\n",
    "    for name, trans, cols in pre.transformers_:\n",
    "        if name == \"num\":\n",
    "            poly = trans.named_steps.get(\"poly\", None)\n",
    "            if poly is not None:\n",
    "                try:\n",
    "                    num_name_list = poly.get_feature_names_out(cols).tolist()\n",
    "                except Exception:\n",
    "                    num_name_list = list(cols)\n",
    "            else:\n",
    "                num_name_list = list(cols)\n",
    "        if name == \"cat\":\n",
    "            ohe = trans.named_steps.get(\"onehot\", None)\n",
    "            if ohe is not None:\n",
    "                try:\n",
    "                    cat_name_list = ohe.get_feature_names_out(cols).tolist()\n",
    "                except Exception:\n",
    "                    cat_name_list = list(cols)\n",
    "            else:\n",
    "                cat_name_list = list(cols)\n",
    "    return num_name_list + cat_name_list\n",
    "\n",
    "class QuantileClipper(BaseEstimator, TransformerMixin):\n",
    "    # Simple transformer to cap numeric values at lower/upper quantiles learned from train\n",
    "    def __init__(self, lower=0.01, upper=0.99):\n",
    "        self.lower = lower\n",
    "        self.upper = upper\n",
    "        self.lower_bounds_: Optional[np.ndarray] = None\n",
    "        self.upper_bounds_: Optional[np.ndarray] = None\n",
    "\n",
    "    def fit(self, X, y=None):\n",
    "        X = np.asarray(X, dtype=float)\n",
    "        self.lower_bounds_ = np.nanquantile(X, self.lower, axis=0)\n",
    "        self.upper_bounds_ = np.nanquantile(X, self.upper, axis=0)\n",
    "        return self\n",
    "\n",
    "    def transform(self, X):\n",
    "        X = np.asarray(X, dtype=float)\n",
    "        return np.clip(X, self.lower_bounds_, self.upper_bounds_)\n"
   ]
  },
  {
   "cell_type": "code",
   "execution_count": 5,
   "id": "9f3387e5-a5cd-4f59-b4be-2a19e0f9223a",
   "metadata": {},
   "outputs": [
    {
     "name": "stdout",
     "output_type": "stream",
     "text": [
      "Dataset shape: (1000, 19)\n",
      "\n",
      "Top missing columns:\n",
      "Operator_Experience      20\n",
      "Material_Viscosity       20\n",
      "Ambient_Temperature      20\n",
      "Injection_Pressure        0\n",
      "Injection_Temperature     0\n",
      "Timestamp                 0\n",
      "Cooling_Time              0\n",
      "Cycle_Time                0\n",
      "Machine_Age               0\n",
      "Maintenance_Hours         0\n",
      "dtype: int64\n",
      "Extracted Hour/Day/Month/Year/DayOfWeek_num from timestamp.\n"
     ]
    }
   ],
   "source": [
    "# Block 2: load dataset and quick checks, extract time features if present\n",
    "assert os.path.exists(CSV_PATH), f\"CSV not found at {CSV_PATH}\"\n",
    "df = pd.read_csv(CSV_PATH)\n",
    "\n",
    "print(\"Dataset shape:\", df.shape)\n",
    "print(\"\\nTop missing columns:\")\n",
    "print(df.isna().sum().sort_values(ascending=False).head(10))\n",
    "\n",
    "# If there's a timestamp-like column, extract hour/day/month and drop the raw timestamp\n",
    "time_like = [c for c in df.columns if c.lower() in (\"timestamp\", \"datetime\", \"date_time\", \"time\")]\n",
    "if time_like:\n",
    "    ts = time_like[0]\n",
    "    df[ts] = pd.to_datetime(df[ts], errors=\"coerce\")\n",
    "    df[\"Hour\"] = df[ts].dt.hour\n",
    "    df[\"Day\"] = df[ts].dt.day\n",
    "    df[\"Month\"] = df[ts].dt.month\n",
    "    df[\"Year\"] = df[ts].dt.year\n",
    "    df[\"DayOfWeek_num\"] = df[ts].dt.dayofweek\n",
    "    df.drop(columns=[ts], inplace=True)\n",
    "    print(\"Extracted Hour/Day/Month/Year/DayOfWeek_num from timestamp.\")\n"
   ]
  },
  {
   "cell_type": "code",
   "execution_count": 6,
   "id": "f690d481-b5f4-448c-9eda-61ab169b74ee",
   "metadata": {},
   "outputs": [
    {
     "name": "stdout",
     "output_type": "stream",
     "text": [
      "Engineered features added: ['Temp_Pressure_Product', 'Cycle_Cooling_Ratio']\n"
     ]
    }
   ],
   "source": [
    "# Block 3: add domain-informed interaction/ratio features\n",
    "# These are straightforward: they make physical sense and often help a linear model.\n",
    "if {\"Injection_Temperature\", \"Injection_Pressure\"}.issubset(df.columns):\n",
    "    df[\"Temp_Pressure_Product\"] = df[\"Injection_Temperature\"] * df[\"Injection_Pressure\"]\n",
    "if {\"Cycle_Time\", \"Cooling_Time\"}.issubset(df.columns):\n",
    "    df[\"Cycle_Cooling_Ratio\"] = df[\"Cycle_Time\"] / (df[\"Cooling_Time\"] + 1e-5)\n",
    "\n",
    "# show new columns if added\n",
    "new_cols = [c for c in (\"Temp_Pressure_Product\", \"Cycle_Cooling_Ratio\") if c in df.columns]\n",
    "print(\"Engineered features added:\", new_cols)\n"
   ]
  },
  {
   "cell_type": "code",
   "execution_count": 7,
   "id": "50bb187b-7dd9-4492-899c-ebdfa0548932",
   "metadata": {},
   "outputs": [
    {
     "name": "stdout",
     "output_type": "stream",
     "text": [
      "Train shape: (800, 24) Test shape: (200, 24)\n"
     ]
    }
   ],
   "source": [
    "# Block 4: define target and split the dataset\n",
    "if TARGET not in df.columns:\n",
    "    raise ValueError(f\"Target {TARGET} not found in dataset columns.\")\n",
    "\n",
    "y = df[TARGET].astype(float).copy()\n",
    "X = df.drop(columns=[TARGET]).copy()\n",
    "\n",
    "# split into train and test\n",
    "X_train, X_test, y_train, y_test = train_test_split(X, y, test_size=TEST_SIZE, random_state=RANDOM_STATE)\n",
    "print(\"Train shape:\", X_train.shape, \"Test shape:\", X_test.shape)\n"
   ]
  },
  {
   "cell_type": "code",
   "execution_count": 8,
   "id": "85810538-ed93-4cf6-b8a9-5f402e90ab08",
   "metadata": {},
   "outputs": [
    {
     "name": "stdout",
     "output_type": "stream",
     "text": [
      "Categorical columns: ['Shift', 'Machine_Type', 'Material_Grade', 'Day_of_Week']\n",
      "Numeric columns (first 10): ['Injection_Temperature', 'Injection_Pressure', 'Cycle_Time', 'Cooling_Time', 'Material_Viscosity', 'Ambient_Temperature', 'Machine_Age', 'Operator_Experience', 'Maintenance_Hours', 'Temperature_Pressure_Ratio']\n"
     ]
    }
   ],
   "source": [
    "# Block 5: identify categorical and numeric columns\n",
    "cat_cols = [c for c in X_train.columns if X_train[c].dtype == \"object\" or str(X_train[c].dtype).startswith(\"category\")]\n",
    "num_cols = [c for c in X_train.columns if c not in cat_cols]\n",
    "\n",
    "print(\"Categorical columns:\", cat_cols)\n",
    "print(\"Numeric columns (first 10):\", num_cols[:10])\n"
   ]
  },
  {
   "cell_type": "code",
   "execution_count": 9,
   "id": "72f2a518-734d-40a6-afc5-1ae0854fecee",
   "metadata": {},
   "outputs": [
    {
     "name": "stdout",
     "output_type": "stream",
     "text": [
      "Preprocessing fitted on training set.\n"
     ]
    }
   ],
   "source": [
    "# Block 6: build preprocessing pipelines for numeric and categorical data\n",
    "# Numeric steps: impute median -> quantile clip -> polynomial features (degree 2) -> robust scale\n",
    "# Categorical steps: impute mode -> one-hot encode\n",
    "\n",
    "numeric_prep = Pipeline(steps=[\n",
    "    (\"imputer\", SimpleImputer(strategy=\"median\")),\n",
    "    (\"clipper\", QuantileClipper(lower=0.01, upper=0.99)),\n",
    "    (\"poly\", PolynomialFeatures(degree=2, include_bias=False)),\n",
    "    (\"scaler\", RobustScaler())\n",
    "])\n",
    "\n",
    "categorical_prep = Pipeline(steps=[\n",
    "    (\"imputer\", SimpleImputer(strategy=\"most_frequent\")),\n",
    "    (\"onehot\", OneHotEncoder(handle_unknown=\"ignore\", sparse_output=False))\n",
    "])\n",
    "\n",
    "preprocess = ColumnTransformer(\n",
    "    transformers=[\n",
    "        (\"num\", numeric_prep, num_cols),\n",
    "        (\"cat\", categorical_prep, cat_cols)\n",
    "    ],\n",
    "    remainder=\"drop\"\n",
    ")\n",
    "\n",
    "# Fit preprocess on training set so subsequent blocks can use get_feature_names and transform quickly\n",
    "preprocess.fit(X_train)\n",
    "print(\"Preprocessing fitted on training set.\")\n"
   ]
  },
  {
   "cell_type": "code",
   "execution_count": 10,
   "id": "35d2b4ec-5ec0-4da7-9117-bfb4b49dcb28",
   "metadata": {
    "scrolled": true
   },
   "outputs": [
    {
     "name": "stdout",
     "output_type": "stream",
     "text": [
      "Model pipeline is ready. It includes preprocessing and a Yeo-Johnson target transformer.\n"
     ]
    }
   ],
   "source": [
    "# Block 7: define the model pipeline. Ridge is our linear model (regularized).\n",
    "# We wrap the pipeline in TransformedTargetRegressor to stabilize target distribution using Yeo-Johnson.\n",
    "ridge = Ridge(random_state=RANDOM_STATE)\n",
    "\n",
    "model = TransformedTargetRegressor(\n",
    "    regressor=Pipeline(steps=[(\"preprocess\", preprocess), (\"model\", ridge)]),\n",
    "    transformer=PowerTransformer(method=\"yeo-johnson\", standardize=True)\n",
    ")\n",
    "\n",
    "print(\"Model pipeline is ready. It includes preprocessing and a Yeo-Johnson target transformer.\")\n"
   ]
  },
  {
   "cell_type": "code",
   "execution_count": 11,
   "id": "3daee362-fe97-49a7-828f-ed277b115f9e",
   "metadata": {},
   "outputs": [
    {
     "name": "stdout",
     "output_type": "stream",
     "text": [
      "Starting GridSearchCV. This may take a bit of time.\n",
      "Grid search finished in 10.7 seconds.\n",
      "Best parameters: {'regressor__model__alpha': 3} | Cross-validated MSE: 10.3770\n"
     ]
    }
   ],
   "source": [
    "# Block 8: grid search to find best alpha for Ridge\n",
    "param_grid = {\n",
    "    \"regressor__model__alpha\": [0.01, 0.03, 0.1, 0.3, 1, 3, 10, 30, 100]\n",
    "}\n",
    "\n",
    "cv = RepeatedKFold(n_splits=5, n_repeats=2, random_state=RANDOM_STATE)\n",
    "\n",
    "gs = GridSearchCV(\n",
    "    estimator=model,\n",
    "    param_grid=param_grid,\n",
    "    cv=cv,\n",
    "    scoring=\"neg_mean_squared_error\",\n",
    "    n_jobs=1,\n",
    "    verbose=0\n",
    ")\n",
    "\n",
    "\n",
    "print(\"Starting GridSearchCV. This may take a bit of time.\")\n",
    "start = time.time()\n",
    "gs.fit(X_train, y_train)\n",
    "best_model = gs.best_estimator_\n",
    "end = time.time()\n",
    "print(f\"Grid search finished in {end - start:.1f} seconds.\")\n",
    "\n",
    "best_model = gs.best_estimator_\n",
    "best_params = gs.best_params_\n",
    "best_cv_mse = -gs.best_score_\n",
    "print(f\"Best parameters: {best_params} | Cross-validated MSE: {best_cv_mse:.4f}\")\n"
   ]
  },
  {
   "cell_type": "code",
   "execution_count": 12,
   "id": "9b6e84c7-f344-4fc8-86bf-0a5014ce8ea9",
   "metadata": {},
   "outputs": [
    {
     "name": "stdout",
     "output_type": "stream",
     "text": [
      "Test set regression metrics:\n",
      "{\n",
      "  \"RMSE\": 3.1019163925039233,\n",
      "  \"MSE\": 9.621885306084554,\n",
      "  \"MAE\": 2.307069917462557,\n",
      "  \"R2\": 0.9262650380881535,\n",
      "  \"MAPE\": 9.279891903468048\n",
      "}\n"
     ]
    }
   ],
   "source": [
    "# Block 9: predict on test and compute regression metrics\n",
    "y_pred = best_model.predict(X_test)\n",
    "metrics_test = regression_report(y_test, y_pred)\n",
    "print(\"Test set regression metrics:\")\n",
    "print(json.dumps(metrics_test, indent=2))\n"
   ]
  },
  {
   "cell_type": "code",
   "execution_count": 13,
   "id": "cadb7ba0-6d69-437d-ac5f-627f5a676846",
   "metadata": {},
   "outputs": [
    {
     "name": "stdout",
     "output_type": "stream",
     "text": [
      "Underperformance detection at 25th percentile (threshold 17.700):\n",
      "{\n",
      "  \"precision\": 0.9705882352941176,\n",
      "  \"recall\": 0.6226415094339622,\n",
      "  \"f1\": 0.7586206896551724,\n",
      "  \"accuracy\": 0.895\n",
      "}\n",
      "Underperformance detection at 30th percentile (threshold 20.400):\n",
      "{\n",
      "  \"precision\": 0.9491525423728814,\n",
      "  \"recall\": 0.7887323943661971,\n",
      "  \"f1\": 0.8615384615384616,\n",
      "  \"accuracy\": 0.91\n",
      "}\n"
     ]
    }
   ],
   "source": [
    "# Block 10: create binary underperformance labels (business use)\n",
    "# We define thresholds from training target percentiles to avoid data leakage.\n",
    "\n",
    "thr_base = float(np.percentile(y_train, UNDERPERF_PCT_BASELINE))\n",
    "y_test_cls_true_base = (y_test < thr_base).astype(int)\n",
    "y_test_cls_pred_base = (y_pred < thr_base).astype(int)\n",
    "cls_base = class_report(y_test_cls_true_base, y_test_cls_pred_base)\n",
    "\n",
    "thr_tuned = float(np.percentile(y_train, UNDERPERF_PCT_TUNED))\n",
    "y_test_cls_true_tuned = (y_test < thr_tuned).astype(int)\n",
    "y_test_cls_pred_tuned = (y_pred < thr_tuned).astype(int)\n",
    "cls_tuned = class_report(y_test_cls_true_tuned, y_test_cls_pred_tuned)\n",
    "\n",
    "print(f\"Underperformance detection at {UNDERPERF_PCT_BASELINE:.0f}th percentile (threshold {thr_base:.3f}):\")\n",
    "print(json.dumps(cls_base, indent=2))\n",
    "print(f\"Underperformance detection at {UNDERPERF_PCT_TUNED:.0f}th percentile (threshold {thr_tuned:.3f}):\")\n",
    "print(json.dumps(cls_tuned, indent=2))\n"
   ]
  },
  {
   "cell_type": "code",
   "execution_count": 14,
   "id": "c8724741-e6ac-4320-a69c-42213afb53c1",
   "metadata": {},
   "outputs": [
    {
     "name": "stdout",
     "output_type": "stream",
     "text": [
      "Top 15 most influential features by absolute coefficient value:\n",
      "                             feature  coefficient  abs_coef\n",
      "                  Total_Cycle_Time^2    -0.395258  0.395258\n",
      "         Cycle_Time Total_Cycle_Time    -0.386911  0.386911\n",
      "                        Cycle_Time^2    -0.356164  0.356164\n",
      "Total_Cycle_Time Cycle_Cooling_Ratio    -0.317085  0.317085\n",
      "      Cycle_Time Cycle_Cooling_Ratio    -0.274580  0.274580\n",
      "                         Shift_Night    -0.178060  0.178060\n",
      "                 Machine_Type_Type_A     0.169179  0.169179\n",
      "               Cycle_Cooling_Ratio^2    -0.155416  0.155416\n",
      "                           Shift_Day     0.149661  0.149661\n",
      "                 Machine_Type_Type_C    -0.141475  0.141475\n",
      "    Material_Viscosity DayOfWeek_num    -0.124873  0.124873\n",
      "              Material_Grade_Economy    -0.121789  0.121789\n",
      "              Material_Grade_Premium     0.119667  0.119667\n",
      "                Material_Viscosity^2     0.118382  0.118382\n",
      "                 Month DayOfWeek_num     0.111146  0.111146\n"
     ]
    }
   ],
   "source": [
    "# Block 11: extract feature names and coefficients to inspect which features matter most\n",
    "inner_pipe = best_model.regressor_\n",
    "coef = inner_pipe.named_steps[\"model\"].coef_\n",
    "feat_names = get_feature_names(inner_pipe.named_steps[\"preprocess\"])\n",
    "\n",
    "# Handle mismatch safety: if shapes mismatch, create generic names\n",
    "if len(coef) != len(feat_names):\n",
    "    feat_names = [f\"f_{i}\" for i in range(len(coef))]\n",
    "\n",
    "coef_df = pd.DataFrame({\"feature\": feat_names, \"coefficient\": coef})\n",
    "coef_df[\"abs_coef\"] = coef_df[\"coefficient\"].abs()\n",
    "coef_df.sort_values(\"abs_coef\", ascending=False, inplace=True)\n",
    "\n",
    "print(\"Top 15 most influential features by absolute coefficient value:\")\n",
    "print(coef_df.head(15).to_string(index=False))\n"
   ]
  },
  {
   "cell_type": "code",
   "execution_count": 15,
   "id": "564258ec-a221-4902-9cdd-b2d80bf257a5",
   "metadata": {},
   "outputs": [
    {
     "data": {
      "image/png": "[encoded data removed]",
      "text/plain": [
       "<Figure size 600x400 with 1 Axes>"
      ]
     },
     "metadata": {},
     "output_type": "display_data"
    },
    {
     "data": {
      "image/png": "[encoded data removed]",
      "text/plain": [
       "<Figure size 600x400 with 1 Axes>"
      ]
     },
     "metadata": {},
     "output_type": "display_data"
    },
    {
     "data": {
      "image/png": "[encoded data removed]",
      "text/plain": [
       "<Figure size 600x400 with 1 Axes>"
      ]
     },
     "metadata": {},
     "output_type": "display_data"
    }
   ],
   "source": [
    "# Block 12: plotting for diagnostics\n",
    "plt.figure(figsize=(6,4))\n",
    "plt.scatter(y_test, y_pred, s=18, alpha=0.7)\n",
    "mn, mx = float(np.min(y_test)), float(np.max(y_test))\n",
    "plt.plot([mn, mx], [mn, mx], 'r--', linewidth=1)\n",
    "plt.title(\"Predicted vs Actual Parts_Per_Hour\")\n",
    "plt.xlabel(\"Actual Parts_Per_Hour\")\n",
    "plt.ylabel(\"Predicted Parts_Per_Hour\")\n",
    "plt.tight_layout()\n",
    "plt.show()\n",
    "\n",
    "residuals = y_test - y_pred\n",
    "plt.figure(figsize=(6,4))\n",
    "plt.hist(residuals, bins=30)\n",
    "plt.title(\"Residuals Distribution\")\n",
    "plt.xlabel(\"Residual (Actual - Predicted)\")\n",
    "plt.tight_layout()\n",
    "plt.show()\n",
    "\n",
    "plt.figure(figsize=(6,4))\n",
    "plt.hist(y, bins=25)\n",
    "plt.title(\"Target Distribution (All data)\")\n",
    "plt.xlabel(\"Parts_Per_Hour\")\n",
    "plt.tight_layout()\n",
    "plt.show()\n"
   ]
  },
  {
   "cell_type": "code",
   "execution_count": 16,
   "id": "a876c967-a6f7-483b-8040-2c15f58ce4c1",
   "metadata": {},
   "outputs": [
    {
     "name": "stdout",
     "output_type": "stream",
     "text": [
      "Saved trained model to: artifacts\\ridge_linear_regression_model.joblib\n",
      "\n",
      "Done. The pipeline used Ridge (a linear model) with preprocessing, polynomial features,\n",
      "a Yeo-Johnson target transform, quantile clipping and grid-searched alpha. This keeps us\n",
      "within the 'linear regression' family while improving robustness and predictive performance.\n"
     ]
    }
   ],
   "source": [
    "# Block 13: save model artifact and final notes\n",
    "if SAVE_ARTIFACTS:\n",
    "    os.makedirs(ARTIFACTS_DIR, exist_ok=True)\n",
    "    model_path = os.path.join(ARTIFACTS_DIR, \"ridge_linear_regression_model.joblib\")\n",
    "    joblib.dump(best_model, model_path)\n",
    "    print(\"Saved trained model to:\", model_path)\n",
    "\n",
    "print(\"\\nDone. The pipeline used Ridge (a linear model) with preprocessing, polynomial features,\")\n",
    "print(\"a Yeo-Johnson target transform, quantile clipping and grid-searched alpha. This keeps us\")\n",
    "print(\"within the 'linear regression' family while improving robustness and predictive performance.\")\n"
   ]
  },
  {
   "cell_type": "code",
   "execution_count": 17,
   "id": "c774ee23-2722-4dd5-945e-2b1e8ad9f971",
   "metadata": {
    "scrolled": true
   },
   "outputs": [
    {
     "name": "stdout",
     "output_type": "stream",
     "text": [
      "Test MSE: 9.6219\n",
      "Test RMSE: 3.1019\n",
      "Test MAE: 2.3071\n",
      "Test R2: 0.9263\n",
      "Test MAPE (%): 9.28\n",
      "✅ Saved model pipeline to: artifacts\\ridge_pipeline_best.joblib\n",
      "✅ Saved metadata to: artifacts\\ridge_pipeline_best_metadata.json\n",
      "✅ Model reloaded OK.\n",
      "Sample prediction: [19.74182963203151]\n",
      "Model evaluation, save and verification complete.\n"
     ]
    }
   ],
   "source": [
    "# ---------------------------\n",
    "# Block 9: Evaluate, save, and verify best_model (place immediately after your GridSearch block)\n",
    "# ---------------------------\n",
    "import joblib\n",
    "import json\n",
    "import os\n",
    "import numpy as np\n",
    "from sklearn.metrics import mean_squared_error, mean_absolute_error, r2_score\n",
    "\n",
    "# 1) Evaluate on test set\n",
    "y_pred = best_model.predict(X_test)\n",
    "\n",
    "mse = mean_squared_error(y_test, y_pred)\n",
    "rmse = np.sqrt(mse)\n",
    "mae = mean_absolute_error(y_test, y_pred)\n",
    "r2 = r2_score(y_test, y_pred)\n",
    "# MAPE: avoid divide-by-zero\n",
    "mape = 100.0 * np.mean(np.abs((y_test - y_pred) / np.where(y_test == 0, 1e-6, y_test)))\n",
    "\n",
    "print(\"Test MSE: {:.4f}\".format(mse))\n",
    "print(\"Test RMSE: {:.4f}\".format(rmse))\n",
    "print(\"Test MAE: {:.4f}\".format(mae))\n",
    "print(\"Test R2: {:.4f}\".format(r2))\n",
    "print(\"Test MAPE (%): {:.2f}\".format(mape))\n",
    "\n",
    "# 2) Save model pipeline (joblib recommended)\n",
    "ARTIFACT_DIR = \"artifacts\"\n",
    "os.makedirs(ARTIFACT_DIR, exist_ok=True)\n",
    "model_path = os.path.join(ARTIFACT_DIR, \"ridge_pipeline_best.joblib\")\n",
    "joblib.dump(best_model, model_path, compress=3)\n",
    "print(f\"✅ Saved model pipeline to: {model_path}\")\n",
    "\n",
    "# 3) Save minimal metadata (metrics + features)\n",
    "metadata = {\n",
    "    \"model_file\": os.path.basename(model_path),\n",
    "    \"timestamp\": __import__(\"datetime\").datetime.now().isoformat(),\n",
    "    \"mse\": float(mse),\n",
    "    \"rmse\": float(rmse),\n",
    "    \"mae\": float(mae),\n",
    "    \"r2\": float(r2),\n",
    "    \"mape_percent\": float(mape),\n",
    "    \"best_params\": best_params\n",
    "}\n",
    "# try to include feature list if X exists\n",
    "try:\n",
    "    metadata[\"features\"] = list(X.columns)\n",
    "except Exception:\n",
    "    metadata[\"features\"] = None\n",
    "\n",
    "meta_path = os.path.join(ARTIFACT_DIR, \"ridge_pipeline_best_metadata.json\")\n",
    "with open(meta_path, \"w\") as f:\n",
    "    json.dump(metadata, f, indent=2)\n",
    "print(f\"✅ Saved metadata to: {meta_path}\")\n",
    "\n",
    "# 4) Verify: load and predict a sample\n",
    "loaded = joblib.load(model_path)\n",
    "print(\"✅ Model reloaded OK.\")\n",
    "\n",
    "# pick a sample row from X_test (preserve DataFrame type if used earlier)\n",
    "sample = X_test.iloc[:1] if hasattr(X_test, \"iloc\") else X_test[:1]\n",
    "try:\n",
    "    sample_pred = loaded.predict(sample)\n",
    "    print(\"Sample prediction:\", sample_pred.tolist())\n",
    "except Exception as e:\n",
    "    print(\"⚠️ Model loaded but prediction failed:\", e)\n",
    "    raise\n",
    "\n",
    "# Done\n",
    "print(\"Model evaluation, save and verification complete.\")\n"
   ]
  },
  {
   "cell_type": "code",
   "execution_count": 18,
   "id": "e9883c86-4d40-4266-b292-d62f9423dd32",
   "metadata": {},
   "outputs": [
    {
     "name": "stdout",
     "output_type": "stream",
     "text": [
      "TransformedTargetRegressor(regressor=Pipeline(steps=[('preprocess',\n",
      "                                                      ColumnTransformer(transformers=[('num',\n",
      "                                                                                       Pipeline(steps=[('imputer',\n",
      "                                                                                                        SimpleImputer(strategy='median')),\n",
      "                                                                                                       ('clipper',\n",
      "                                                                                                        QuantileClipper()),\n",
      "                                                                                                       ('poly',\n",
      "                                                                                                        PolynomialFeatures(include_bias=False)),\n",
      "                                                                                                       ('scaler',\n",
      "                                                                                                        RobustScaler())]),\n",
      "                                                                                       ['Injection_Temperature',\n",
      "                                                                                        'Injection_Pressure',\n",
      "                                                                                        'Cycle_Time',\n",
      "                                                                                        'Cooling_Time',\n",
      "                                                                                        'Ma...\n",
      "                                                                                        'Year',\n",
      "                                                                                        'DayOfWeek_num',\n",
      "                                                                                        'Temp_Pressure_Product',\n",
      "                                                                                        'Cycle_Cooling_Ratio']),\n",
      "                                                                                      ('cat',\n",
      "                                                                                       Pipeline(steps=[('imputer',\n",
      "                                                                                                        SimpleImputer(strategy='most_frequent')),\n",
      "                                                                                                       ('onehot',\n",
      "                                                                                                        OneHotEncoder(handle_unknown='ignore',\n",
      "                                                                                                                      sparse_output=False))]),\n",
      "                                                                                       ['Shift',\n",
      "                                                                                        'Machine_Type',\n",
      "                                                                                        'Material_Grade',\n",
      "                                                                                        'Day_of_Week'])])),\n",
      "                                                     ('model',\n",
      "                                                      Ridge(alpha=3,\n",
      "                                                            random_state=42))]),\n",
      "                           transformer=PowerTransformer())\n"
     ]
    }
   ],
   "source": [
    "print(best_model)"
   ]
  },
  {
   "cell_type": "code",
   "execution_count": 19,
   "id": "be726eaf-b91b-4984-9b76-20922d0775e1",
   "metadata": {},
   "outputs": [
    {
     "name": "stdout",
     "output_type": "stream",
     "text": [
      "✅ Full pipeline saved successfully at artifacts/final_ridge_pipeline.joblib\n"
     ]
    }
   ],
   "source": [
    "os.makedirs(\"artifacts\", exist_ok=True)\n",
    "joblib.dump(best_model, \"artifacts/final_ridge_pipeline.joblib\", compress=3)\n",
    "print(\"✅ Full pipeline saved successfully at artifacts/final_ridge_pipeline.joblib\")"
   ]
  },
  {
   "cell_type": "code",
   "execution_count": 21,
   "id": "6e70fcfb-9728-477a-8284-d9765d262e51",
   "metadata": {},
   "outputs": [
    {
     "data": {
      "text/plain": [
       "['artifacts/final_ridge_pipeline.joblib']"
      ]
     },
     "execution_count": 21,
     "metadata": {},
     "output_type": "execute_result"
    }
   ],
   "source": [
    "joblib.dump(best_model, \"artifacts/final_ridge_pipeline.joblib\", compress=3)\n"
   ]
  },
  {
   "cell_type": "code",
   "execution_count": 22,
   "id": "c08f20b0-1d60-4b91-ba56-2d7de79e6d53",
   "metadata": {},
   "outputs": [
    {
     "name": "stdout",
     "output_type": "stream",
     "text": [
      "✅ Metadata saved.\n"
     ]
    }
   ],
   "source": [
    "import json, datetime, sklearn, platform\n",
    "metadata = {\n",
    "    \"model_file\": \"final_ridge_pipeline.joblib\",\n",
    "    \"timestamp\": datetime.datetime.now().isoformat(),\n",
    "    \"model_type\": \"TransformedTargetRegressor(Ridge)\",\n",
    "    \"alpha\": 3,\n",
    "    \"r2\": float(r2),\n",
    "    \"rmse\": float(rmse),\n",
    "    \"mae\": float(mae),\n",
    "    \"mape\": float(mape),\n",
    "    \"mse\": float(mse),\n",
    "    \"python_version\": platform.python_version(),\n",
    "    \"sklearn_version\": sklearn.__version__\n",
    "}\n",
    "with open(\"artifacts/model_metadata.json\",\"w\") as f:\n",
    "    json.dump(metadata,f,indent=2)\n",
    "print(\"✅ Metadata saved.\")\n"
   ]
  },
  {
   "cell_type": "code",
   "execution_count": 23,
   "id": "d1bcbbe2-f94c-4b71-abb0-2c53e08de02a",
   "metadata": {},
   "outputs": [
    {
     "name": "stdout",
     "output_type": "stream",
     "text": [
      "Prediction OK: [19.74182963]\n"
     ]
    }
   ],
   "source": [
    "loaded_model = joblib.load(\"artifacts/final_ridge_pipeline.joblib\")\n",
    "sample = X_test.iloc[:1]\n",
    "print(\"Prediction OK:\", loaded_model.predict(sample))\n"
   ]
  },
  {
   "cell_type": "code",
   "execution_count": null,
   "id": "db6c5dd7-f21e-4d78-a8a5-60d50f8cc7ee",
   "metadata": {},
   "outputs": [],
   "source": []
  }
 ],
 "metadata": {
  "kernelspec": {
   "display_name": "Python 3 (ipykernel)",
   "language": "python",
   "name": "python3"
  },
  "language_info": {
   "codemirror_mode": {
    "name": "ipython",
    "version": 3
   },
   "file_extension": ".py",
   "mimetype": "text/x-python",
   "name": "python",
   "nbconvert_exporter": "python",
   "pygments_lexer": "ipython3",
   "version": "3.13.9"
  }
 },
 "nbformat": 4,
 "nbformat_minor": 5
}
