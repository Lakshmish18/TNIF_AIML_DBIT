{
 "cells": [
  {
   "cell_type": "code",
   "execution_count": 7,
   "id": "5c54e141-ddf6-4515-8bb1-c7aa5fa6a609",
   "metadata": {},
   "outputs": [],
   "source": [
    "import pandas as pd\n",
    "from mlxtend.preprocessing import TransactionEncoder\n",
    "from mlxtend.frequent_patterns import apriori, association_rules"
   ]
  },
  {
   "cell_type": "code",
   "execution_count": 8,
   "id": "0730f4ad-731e-4aef-9f26-5cb3202c6233",
   "metadata": {},
   "outputs": [],
   "source": [
    "dataset = [\n",
    "    ['Coffee', 'Donut', 'Sandwich'],\n",
    "    ['Coffee', 'Donut'],\n",
    "    ['Coffee', 'Sandwich'],\n",
    "    ['Coffee', 'Muffin'],\n",
    "    ['Donut', 'Muffin']\n",
    "]\n"
   ]
  },
  {
   "cell_type": "code",
   "execution_count": 9,
   "id": "bf02b1c3-dded-45af-a569-240c165084f7",
   "metadata": {},
   "outputs": [
    {
     "name": "stdout",
     "output_type": "stream",
     "text": [
      "Transactions:\n",
      "T1: ['Coffee', 'Donut', 'Sandwich']\n",
      "T2: ['Coffee', 'Donut']\n",
      "T3: ['Coffee', 'Sandwich']\n",
      "T4: ['Coffee', 'Muffin']\n",
      "T5: ['Donut', 'Muffin']\n"
     ]
    }
   ],
   "source": [
    "print(\"Transactions:\")\n",
    "for i, t in enumerate(dataset, start=1):\n",
    "    print(f\"T{i}: {t}\")\n"
   ]
  },
  {
   "cell_type": "code",
   "execution_count": 10,
   "id": "2bb102a9-7df6-499c-bb73-ecf27989a9ce",
   "metadata": {},
   "outputs": [
    {
     "name": "stdout",
     "output_type": "stream",
     "text": [
      "\n",
      "One-hot encoded DataFrame:\n",
      "   Coffee  Donut  Muffin  Sandwich\n",
      "0       1      1       0         1\n",
      "1       1      1       0         0\n",
      "2       1      0       0         1\n",
      "3       1      0       1         0\n",
      "4       0      1       1         0\n"
     ]
    }
   ],
   "source": [
    "te = TransactionEncoder()\n",
    "te_ary = te.fit(dataset).transform(dataset)\n",
    "df = pd.DataFrame(te_ary, columns=te.columns_)\n",
    "print(\"\\nOne-hot encoded DataFrame:\")\n",
    "print(df.astype(int))  "
   ]
  },
  {
   "cell_type": "code",
   "execution_count": 11,
   "id": "6c203c6e-8c9c-4646-84a9-3c2b886a1e81",
   "metadata": {},
   "outputs": [
    {
     "name": "stdout",
     "output_type": "stream",
     "text": [
      "\n",
      "Frequent itemsets (min_support=0.4):\n",
      "   support            itemsets\n",
      "0      0.8            (Coffee)\n",
      "1      0.6             (Donut)\n",
      "2      0.4            (Muffin)\n",
      "3      0.4          (Sandwich)\n",
      "4      0.4     (Coffee, Donut)\n",
      "5      0.4  (Coffee, Sandwich)\n"
     ]
    }
   ],
   "source": [
    "#3\n",
    "min_support = 0.4\n",
    "frequent_itemsets = apriori(df, min_support=min_support, use_colnames=True)\n",
    "frequent_itemsets = frequent_itemsets.sort_values([\"support\", \"itemsets\"], ascending=[False, True]).reset_index(drop=True)\n",
    "print(f\"\\nFrequent itemsets (min_support={min_support}):\")\n",
    "print(frequent_itemsets)"
   ]
  },
  {
   "cell_type": "code",
   "execution_count": 12,
   "id": "020585c5-2e94-446a-b63e-a53a5cf69e2f",
   "metadata": {},
   "outputs": [
    {
     "name": "stdout",
     "output_type": "stream",
     "text": [
      "\n",
      "All association rules (sorted by lift):\n",
      "  antecedents consequents  support  confidence      lift\n",
      "0  (Sandwich)    (Coffee)      0.4    1.000000  1.250000\n",
      "1    (Coffee)  (Sandwich)      0.4    0.500000  1.250000\n",
      "2     (Donut)    (Coffee)      0.4    0.666667  0.833333\n",
      "3    (Coffee)     (Donut)      0.4    0.500000  0.833333\n"
     ]
    }
   ],
   "source": [
    "#4\n",
    "rules = association_rules(frequent_itemsets, metric=\"confidence\", min_threshold=0.0)\n",
    "\n",
    "rules = rules[[\"antecedents\", \"consequents\", \"support\", \"confidence\", \"lift\"]]\n",
    "rules = rules.sort_values([\"lift\", \"confidence\", \"support\"], ascending=False).reset_index(drop=True)\n",
    "print(\"\\nAll association rules (sorted by lift):\")\n",
    "print(rules)"
   ]
  },
  {
   "cell_type": "code",
   "execution_count": 13,
   "id": "4abc567a-07b8-4b1a-9ed9-38727c85ee7a",
   "metadata": {},
   "outputs": [
    {
     "name": "stdout",
     "output_type": "stream",
     "text": [
      "\n",
      "Rules meeting support >= 0.4 AND confidence >= 0.6:\n",
      "  antecedents consequents  support  confidence      lift\n",
      "0  (Sandwich)    (Coffee)      0.4    1.000000  1.250000\n",
      "1     (Donut)    (Coffee)      0.4    0.666667  0.833333\n"
     ]
    }
   ],
   "source": [
    "#5\n",
    "min_conf = 0.6\n",
    "rules_strong = rules[(rules[\"support\"] >= min_support) & (rules[\"confidence\"] >= min_conf)].reset_index(drop=True)\n",
    "print(f\"\\nRules meeting support >= {min_support} AND confidence >= {min_conf}:\")\n",
    "print(rules_strong)\n"
   ]
  },
  {
   "cell_type": "code",
   "execution_count": 14,
   "id": "f8ead038-9fb5-4814-8938-5e32114978ae",
   "metadata": {},
   "outputs": [
    {
     "name": "stdout",
     "output_type": "stream",
     "text": [
      "\n",
      "Example interpretation:\n",
      "If a basket contains [Sandwich], it also contains [Coffee] with confidence=1.00, lift=1.25.\n"
     ]
    }
   ],
   "source": [
    "#6\n",
    "def rule_to_text(row):\n",
    "    A = \", \".join(sorted(list(row[\"antecedents\"])))\n",
    "    B = \", \".join(sorted(list(row[\"consequents\"])))\n",
    "    return (f\"If a basket contains [{A}], it also contains [{B}] \"\n",
    "            f\"with confidence={row['confidence']:.2f}, lift={row['lift']:.2f}.\")\n",
    "\n",
    "if not rules_strong.empty:\n",
    "    print(\"\\nExample interpretation:\")\n",
    "    print(rule_to_text(rules_strong.iloc[0]))\n",
    "else:\n",
    "    print(\"\\nNo rules met the chosen thresholds.\")"
   ]
  },
  {
   "cell_type": "code",
   "execution_count": 16,
   "id": "544154ab-4185-4861-9dc5-d96b9d71ec9a",
   "metadata": {},
   "outputs": [],
   "source": [
    "def run_apriori(min_support: float, min_conf: float):\n",
    "    \"\"\"Return frequent itemsets, all rules, strong rules, and lift>1 rules.\"\"\"\n",
    "    # Frequent itemsets\n",
    "    fi = apriori(df, min_support=min_support, use_colnames=True)\n",
    "    fi = fi.sort_values([\"support\", \"itemsets\"], ascending=[False, True]).reset_index(drop=True)\n",
    "\n",
    "    \n",
    "    rules = association_rules(fi, metric=\"confidence\", min_threshold=0.0)\n",
    "    rules = rules[[\"antecedents\", \"consequents\", \"support\", \"confidence\", \"lift\"]]\n",
    "    rules = rules.sort_values([\"lift\", \"confidence\", \"support\"], ascending=False).reset_index(drop=True)\n",
    "\n",
    "    # Strong rules by the given thresholds\n",
    "    strong = rules[(rules[\"support\"] >= min_support) & (rules[\"confidence\"] >= min_conf)].reset_index(drop=True)\n",
    "\n",
    "    # Rules with lift>1 (positive association)\n",
    "    lift_pos = rules[rules[\"lift\"] > 1].reset_index(drop=True)\n",
    "\n",
    "    return fi, rules, strong, lift_pos\n",
    "\n",
    "\n",
    "\n",
    "supports = [0.2, 0.3, 0.4, 0.5, 0.6]\n",
    "confidences = [0.4, 0.6, 0.8]\n",
    "\n",
    "records = []\n",
    "for s in supports:\n",
    "    for c in confidences:\n",
    "        fi, rules, strong, lift_pos = run_apriori(s, c)\n",
    "        records.append({\n",
    "            \"min_support\": s,\n",
    "            \"min_confidence\": c,\n",
    "            \"#frequent_itemsets\": len(fi),\n",
    "            \"#all_rules\": len(rules),\n",
    "            \"#strong_rules(>=support & >=confidence)\": len(strong),\n",
    "            \"#rules_with_lift>1\": len(lift_pos)\n",
    "        })"
   ]
  },
  {
   "cell_type": "code",
   "execution_count": null,
   "id": "5835a8cc-dd01-49b6-a15d-30925ada798b",
   "metadata": {},
   "outputs": [],
   "source": []
  }
 ],
 "metadata": {
  "kernelspec": {
   "display_name": "Python 3 (ipykernel)",
   "language": "python",
   "name": "python3"
  },
  "language_info": {
   "codemirror_mode": {
    "name": "ipython",
    "version": 3
   },
   "file_extension": ".py",
   "mimetype": "text/x-python",
   "name": "python",
   "nbconvert_exporter": "python",
   "pygments_lexer": "ipython3",
   "version": "3.13.7"
  }
 },
 "nbformat": 4,
 "nbformat_minor": 5
}
